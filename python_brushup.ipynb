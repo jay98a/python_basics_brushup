{
 "cells": [
  {
   "cell_type": "markdown",
   "metadata": {
    "id": "2Li0VRJ1xK7u"
   },
   "source": [
    "You bought 9 packets of potato chips from a store. Each packet costs 1.49 dollar and you gave shopkeeper 20 dollar. Find out using python, how many dollars is the shopkeeper going to give you back?"
   ]
  },
  {
   "cell_type": "code",
   "execution_count": null,
   "metadata": {
    "colab": {
     "base_uri": "https://localhost:8080/"
    },
    "id": "FfBMzWMrxMR9",
    "outputId": "634c7c8b-02fe-4fbc-afba-ac9b457c6d6a"
   },
   "outputs": [
    {
     "name": "stdout",
     "output_type": "stream",
     "text": [
      "6.59\n"
     ]
    }
   ],
   "source": [
    "each_cost = 1.49\n",
    "packs = 9\n",
    "cash_given = 20\n",
    "change = cash_given - (each_cost*packs)\n",
    "print(change)"
   ]
  },
  {
   "cell_type": "markdown",
   "metadata": {
    "id": "D6Ri5NOGxsN3"
   },
   "source": [
    "Print binary representation of number 17"
   ]
  },
  {
   "cell_type": "code",
   "execution_count": null,
   "metadata": {
    "colab": {
     "base_uri": "https://localhost:8080/"
    },
    "id": "8jeh7rA6xvn1",
    "outputId": "f944c78e-26db-4233-e4b7-6c4a821302ba"
   },
   "outputs": [
    {
     "name": "stdout",
     "output_type": "stream",
     "text": [
      "10001\n"
     ]
    }
   ],
   "source": [
    "number = 17\n",
    "print(format(number,'b'))"
   ]
  },
  {
   "cell_type": "markdown",
   "metadata": {
    "id": "kGZKdmRQ-RwM"
   },
   "source": [
    "f-string"
   ]
  },
  {
   "cell_type": "code",
   "execution_count": null,
   "metadata": {
    "colab": {
     "base_uri": "https://localhost:8080/"
    },
    "id": "nK0CkILZ-R4k",
    "outputId": "81d62565-95ec-43b9-9edc-aba6e004b10b"
   },
   "outputs": [
    {
     "name": "stdout",
     "output_type": "stream",
     "text": [
      "I eat 5 veggies and 10 daily\n"
     ]
    }
   ],
   "source": [
    "num_fruits=10\n",
    "num_veggies=5\n",
    "print(f\"I eat {num_veggies} veggies and {num_fruits} daily\")"
   ]
  },
  {
   "cell_type": "markdown",
   "metadata": {
    "id": "pNMln2IqX8Ed"
   },
   "source": [
    "Let us say your expense for every month are listed below,\n",
    "January - 2200\n",
    "February - 2350\n",
    "March - 2600\n",
    "April - 2130\n",
    "May - 2190\n",
    "Create a list to store these monthly expenses and using that find out,\n",
    "\n",
    "1. In Feb, how many dollars you spent extra compare to January?\n",
    "2. Find out your total expense in first quarter (first three months) of the year.\n",
    "3. Find out if you spent exactly 2000 dollars in any month\n",
    "4. June month just finished and your expense is 1980 dollar. Add this item to our monthly expense list\n",
    "5. You returned an item that you bought in a month of April and\n",
    "got a refund of 200$. Make a correction to your monthly expense list\n",
    "based on this"
   ]
  },
  {
   "cell_type": "code",
   "execution_count": null,
   "metadata": {
    "colab": {
     "base_uri": "https://localhost:8080/"
    },
    "id": "VQeCvvI8X_b8",
    "outputId": "efc417c5-fb0e-4443-b5d4-71f98130a576"
   },
   "outputs": [
    {
     "name": "stdout",
     "output_type": "stream",
     "text": [
      "150\n",
      "7150\n"
     ]
    },
    {
     "data": {
      "text/plain": [
       "[2200, 2350, 2600, 1930, 2190, 1980]"
      ]
     },
     "execution_count": 10,
     "metadata": {},
     "output_type": "execute_result"
    }
   ],
   "source": [
    "exp = [2200,2350,2600,2130,2190]\n",
    "#1\n",
    "feb_more = exp[1]-exp[0]\n",
    "print(feb_more)\n",
    "#2 total expences in first quater\n",
    "q1 = exp[0]+exp[1]+exp[2]\n",
    "print(q1)\n",
    "#3\n",
    "2000 in exp\n",
    "#4\n",
    "exp.append(1980)\n",
    "#5\n",
    "exp[3] = exp[3]-200\n",
    "exp"
   ]
  },
  {
   "cell_type": "markdown",
   "metadata": {
    "id": "bHBAmkGIZxo8"
   },
   "source": [
    "You have a list of your favourite marvel super heros.\n",
    "heros=['spider man','thor','hulk','iron man','captain america']\n",
    "Using this find out,\n",
    "\n",
    "1. Length of the list\n",
    "2. Add 'black panther' at the end of this list\n",
    "3. You realize that you need to add 'black panther' after 'hulk',\n",
    "   so remove it from the list first and then add it after 'hulk'\n",
    "4. Now you don't like thor and hulk because they get angry easily :)\n",
    "   So you want to remove thor and hulk from list and replace them with doctor strange (because he is cool).\n",
    "   Do that with one line of code.\n",
    "5. Sort the heros list in alphabetical order (Hint. Use dir() functions to list down all functions available in list)"
   ]
  },
  {
   "cell_type": "code",
   "execution_count": null,
   "metadata": {
    "colab": {
     "base_uri": "https://localhost:8080/"
    },
    "id": "iCRni9RoZyck",
    "outputId": "6de7797e-506b-49d3-bc49-0308ed7ca35c"
   },
   "outputs": [
    {
     "name": "stdout",
     "output_type": "stream",
     "text": [
      "5\n"
     ]
    },
    {
     "data": {
      "text/plain": [
       "['black panther',\n",
       " 'captain america',\n",
       " 'doctor strange',\n",
       " 'iron man',\n",
       " 'spider man']"
      ]
     },
     "execution_count": 25,
     "metadata": {},
     "output_type": "execute_result"
    }
   ],
   "source": [
    "heros=['spider man','thor','hulk','iron man','captain america']\n",
    "#1\n",
    "print(len(heros))\n",
    "#2\n",
    "heros.append('black panther')\n",
    "heros\n",
    "#3\n",
    "heros.remove('black panther')\n",
    "heros.insert(3,'black panther')\n",
    "heros\n",
    "#4\n",
    "heros[1:3] = ['doctor strange']\n",
    "heros\n",
    "heros.sort()\n",
    "heros"
   ]
  },
  {
   "cell_type": "markdown",
   "metadata": {
    "id": "vTbtpLvH3X8r"
   },
   "source": [
    "Using following list of cities per country,\n",
    "india = [\"mumbai\", \"banglore\", \"chennai\", \"delhi\"]\n",
    "pakistan = [\"lahore\",\"karachi\",\"islamabad\"]\n",
    "bangladesh = [\"dhaka\", \"khulna\", \"rangpur\"]\n",
    "Write a program that asks user to enter a city name and it should tell which country the city belongs to\n",
    "Write a program that asks user to enter two cities and it tells you if they both are in same country or not. For example if I enter mumbai and chennai, it will print \"Both cities are in India\" but if I enter mumbai and dhaka it should print \"They don't belong to same country\""
   ]
  },
  {
   "cell_type": "code",
   "execution_count": null,
   "metadata": {
    "colab": {
     "base_uri": "https://localhost:8080/"
    },
    "id": "EPB5PD5x3ZAF",
    "outputId": "79cbafd6-5023-4ef1-d8ba-ffd4aa80c4e2"
   },
   "outputs": [],
   "source": [
    "# india = [\"mumbai\", \"banglore\", \"chennai\", \"delhi\"]\n",
    "pakistan = [\"lahore\",\"karachi\",\"islamabad\"] \n",
    "bangladesh = [\"dhaka\", \"khulna\", \"rangpur\"] \n",
    "\n",
    "#1\n",
    "# city = input()\n",
    "# if city in india:\n",
    "#   print(\"This city is in India\")\n",
    "# elif city in pakistan:\n",
    "#   print(\"pakistan\")\n",
    "# elif city in bangladesh:\n",
    "#   print(\"bangladesh\")\n",
    "# else:\n",
    "#   print(\"City not found\")\n",
    "\n",
    "#2\n",
    "city1 = input(\"Enter first city\")\n",
    "city2 = input(\"Enter second city\")\n",
    "\n",
    "if city1 and city2 in india:\n",
    "  print(\"Both are in India\")"
   ]
  },
  {
   "cell_type": "markdown",
   "metadata": {
    "id": "XFMogOKz5fPO"
   },
   "source": [
    "Print square of all numbers between 1 to 10 except even numbers"
   ]
  },
  {
   "cell_type": "code",
   "execution_count": null,
   "metadata": {
    "colab": {
     "base_uri": "https://localhost:8080/"
    },
    "id": "GZJeyM8b9nY4",
    "outputId": "6d82e8e4-e586-4038-f271-b23ef74dc0d9"
   },
   "outputs": [
    {
     "name": "stdout",
     "output_type": "stream",
     "text": [
      "1\n",
      "9\n",
      "25\n",
      "49\n",
      "81\n"
     ]
    }
   ],
   "source": [
    "for i in range(11):\n",
    "  if i%2==0:\n",
    "    continue\n",
    "  else:\n",
    "    print(i**2)"
   ]
  },
  {
   "cell_type": "markdown",
   "metadata": {},
   "source": []
  }
 ],
 "metadata": {
  "colab": {
   "name": "python_brushup.ipynb",
   "provenance": []
  },
  "kernelspec": {
   "display_name": "Python 3",
   "language": "python",
   "name": "python3"
  },
  "language_info": {
   "codemirror_mode": {
    "name": "ipython",
    "version": 3
   },
   "file_extension": ".py",
   "mimetype": "text/x-python",
   "name": "python",
   "nbconvert_exporter": "python",
   "pygments_lexer": "ipython3",
   "version": "3.8.8"
  }
 },
 "nbformat": 4,
 "nbformat_minor": 1
}
