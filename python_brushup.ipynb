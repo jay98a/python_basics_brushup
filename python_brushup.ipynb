{
 "cells": [
  {
   "cell_type": "markdown",
   "metadata": {
    "id": "2Li0VRJ1xK7u"
   },
   "source": [
    "You bought 9 packets of potato chips from a store. Each packet costs 1.49 dollar and you gave shopkeeper 20 dollar. Find out using python, how many dollars is the shopkeeper going to give you back?"
   ]
  },
  {
   "cell_type": "code",
   "execution_count": null,
   "metadata": {
    "colab": {
     "base_uri": "https://localhost:8080/"
    },
    "id": "FfBMzWMrxMR9",
    "outputId": "634c7c8b-02fe-4fbc-afba-ac9b457c6d6a"
   },
   "outputs": [
    {
     "name": "stdout",
     "output_type": "stream",
     "text": [
      "6.59\n"
     ]
    }
   ],
   "source": [
    "each_cost = 1.49\n",
    "packs = 9\n",
    "cash_given = 20\n",
    "change = cash_given - (each_cost*packs)\n",
    "print(change)"
   ]
  },
  {
   "cell_type": "markdown",
   "metadata": {
    "id": "D6Ri5NOGxsN3"
   },
   "source": [
    "Print binary representation of number 17"
   ]
  },
  {
   "cell_type": "code",
   "execution_count": null,
   "metadata": {
    "colab": {
     "base_uri": "https://localhost:8080/"
    },
    "id": "8jeh7rA6xvn1",
    "outputId": "f944c78e-26db-4233-e4b7-6c4a821302ba"
   },
   "outputs": [
    {
     "name": "stdout",
     "output_type": "stream",
     "text": [
      "10001\n"
     ]
    }
   ],
   "source": [
    "number = 17\n",
    "print(format(number,'b'))"
   ]
  },
  {
   "cell_type": "markdown",
   "metadata": {
    "id": "kGZKdmRQ-RwM"
   },
   "source": [
    "f-string"
   ]
  },
  {
   "cell_type": "code",
   "execution_count": null,
   "metadata": {
    "colab": {
     "base_uri": "https://localhost:8080/"
    },
    "id": "nK0CkILZ-R4k",
    "outputId": "81d62565-95ec-43b9-9edc-aba6e004b10b"
   },
   "outputs": [
    {
     "name": "stdout",
     "output_type": "stream",
     "text": [
      "I eat 5 veggies and 10 daily\n"
     ]
    }
   ],
   "source": [
    "num_fruits=10\n",
    "num_veggies=5\n",
    "print(f\"I eat {num_veggies} veggies and {num_fruits} daily\")"
   ]
  },
  {
   "cell_type": "markdown",
   "metadata": {
    "id": "pNMln2IqX8Ed"
   },
   "source": [
    "Let us say your expense for every month are listed below,\n",
    "January - 2200\n",
    "February - 2350\n",
    "March - 2600\n",
    "April - 2130\n",
    "May - 2190\n",
    "Create a list to store these monthly expenses and using that find out,\n",
    "\n",
    "1. In Feb, how many dollars you spent extra compare to January?\n",
    "2. Find out your total expense in first quarter (first three months) of the year.\n",
    "3. Find out if you spent exactly 2000 dollars in any month\n",
    "4. June month just finished and your expense is 1980 dollar. Add this item to our monthly expense list\n",
    "5. You returned an item that you bought in a month of April and\n",
    "got a refund of 200$. Make a correction to your monthly expense list\n",
    "based on this"
   ]
  },
  {
   "cell_type": "code",
   "execution_count": null,
   "metadata": {
    "colab": {
     "base_uri": "https://localhost:8080/"
    },
    "id": "VQeCvvI8X_b8",
    "outputId": "efc417c5-fb0e-4443-b5d4-71f98130a576"
   },
   "outputs": [
    {
     "name": "stdout",
     "output_type": "stream",
     "text": [
      "150\n",
      "7150\n"
     ]
    },
    {
     "data": {
      "text/plain": [
       "[2200, 2350, 2600, 1930, 2190, 1980]"
      ]
     },
     "execution_count": 10,
     "metadata": {},
     "output_type": "execute_result"
    }
   ],
   "source": [
    "exp = [2200,2350,2600,2130,2190]\n",
    "#1\n",
    "feb_more = exp[1]-exp[0]\n",
    "print(feb_more)\n",
    "#2 total expences in first quater\n",
    "q1 = exp[0]+exp[1]+exp[2]\n",
    "print(q1)\n",
    "#3\n",
    "2000 in exp\n",
    "#4\n",
    "exp.append(1980)\n",
    "#5\n",
    "exp[3] = exp[3]-200\n",
    "exp"
   ]
  },
  {
   "cell_type": "markdown",
   "metadata": {
    "id": "bHBAmkGIZxo8"
   },
   "source": [
    "You have a list of your favourite marvel super heros.\n",
    "heros=['spider man','thor','hulk','iron man','captain america']\n",
    "Using this find out,\n",
    "\n",
    "1. Length of the list\n",
    "2. Add 'black panther' at the end of this list\n",
    "3. You realize that you need to add 'black panther' after 'hulk',\n",
    "   so remove it from the list first and then add it after 'hulk'\n",
    "4. Now you don't like thor and hulk because they get angry easily :)\n",
    "   So you want to remove thor and hulk from list and replace them with doctor strange (because he is cool).\n",
    "   Do that with one line of code.\n",
    "5. Sort the heros list in alphabetical order (Hint. Use dir() functions to list down all functions available in list)"
   ]
  },
  {
   "cell_type": "code",
   "execution_count": null,
   "metadata": {
    "colab": {
     "base_uri": "https://localhost:8080/"
    },
    "id": "iCRni9RoZyck",
    "outputId": "6de7797e-506b-49d3-bc49-0308ed7ca35c"
   },
   "outputs": [
    {
     "name": "stdout",
     "output_type": "stream",
     "text": [
      "5\n"
     ]
    },
    {
     "data": {
      "text/plain": [
       "['black panther',\n",
       " 'captain america',\n",
       " 'doctor strange',\n",
       " 'iron man',\n",
       " 'spider man']"
      ]
     },
     "execution_count": 25,
     "metadata": {},
     "output_type": "execute_result"
    }
   ],
   "source": [
    "heros=['spider man','thor','hulk','iron man','captain america']\n",
    "#1\n",
    "print(len(heros))\n",
    "#2\n",
    "heros.append('black panther')\n",
    "heros\n",
    "#3\n",
    "heros.remove('black panther')\n",
    "heros.insert(3,'black panther')\n",
    "heros\n",
    "#4\n",
    "heros[1:3] = ['doctor strange']\n",
    "heros\n",
    "heros.sort()\n",
    "heros"
   ]
  },
  {
   "cell_type": "markdown",
   "metadata": {
    "id": "vTbtpLvH3X8r"
   },
   "source": [
    "Using following list of cities per country,\n",
    "india = [\"mumbai\", \"banglore\", \"chennai\", \"delhi\"]\n",
    "pakistan = [\"lahore\",\"karachi\",\"islamabad\"]\n",
    "bangladesh = [\"dhaka\", \"khulna\", \"rangpur\"]\n",
    "Write a program that asks user to enter a city name and it should tell which country the city belongs to\n",
    "Write a program that asks user to enter two cities and it tells you if they both are in same country or not. For example if I enter mumbai and chennai, it will print \"Both cities are in India\" but if I enter mumbai and dhaka it should print \"They don't belong to same country\""
   ]
  },
  {
   "cell_type": "code",
   "execution_count": null,
   "metadata": {
    "colab": {
     "base_uri": "https://localhost:8080/"
    },
    "id": "EPB5PD5x3ZAF",
    "outputId": "79cbafd6-5023-4ef1-d8ba-ffd4aa80c4e2"
   },
   "outputs": [],
   "source": [
    "# india = [\"mumbai\", \"banglore\", \"chennai\", \"delhi\"]\n",
    "pakistan = [\"lahore\",\"karachi\",\"islamabad\"] \n",
    "bangladesh = [\"dhaka\", \"khulna\", \"rangpur\"] \n",
    "\n",
    "#1\n",
    "# city = input()\n",
    "# if city in india:\n",
    "#   print(\"This city is in India\")\n",
    "# elif city in pakistan:\n",
    "#   print(\"pakistan\")\n",
    "# elif city in bangladesh:\n",
    "#   print(\"bangladesh\")\n",
    "# else:\n",
    "#   print(\"City not found\")\n",
    "\n",
    "#2\n",
    "city1 = input(\"Enter first city\")\n",
    "city2 = input(\"Enter second city\")\n",
    "\n",
    "if city1 and city2 in india:\n",
    "  print(\"Both are in India\")"
   ]
  },
  {
   "cell_type": "markdown",
   "metadata": {
    "id": "XFMogOKz5fPO"
   },
   "source": [
    "Print square of all numbers between 1 to 10 except even numbers"
   ]
  },
  {
   "cell_type": "code",
   "execution_count": null,
   "metadata": {
    "colab": {
     "base_uri": "https://localhost:8080/"
    },
    "id": "GZJeyM8b9nY4",
    "outputId": "6d82e8e4-e586-4038-f271-b23ef74dc0d9"
   },
   "outputs": [
    {
     "name": "stdout",
     "output_type": "stream",
     "text": [
      "1\n",
      "9\n",
      "25\n",
      "49\n",
      "81\n"
     ]
    }
   ],
   "source": [
    "for i in range(11):\n",
    "  if i%2==0:\n",
    "    continue\n",
    "  else:\n",
    "    print(i**2)"
   ]
  },
  {
   "cell_type": "markdown",
   "metadata": {},
   "source": [
    "exception handeling"
   ]
  },
  {
   "cell_type": "code",
   "execution_count": 7,
   "metadata": {},
   "outputs": [
    {
     "name": "stdout",
     "output_type": "stream",
     "text": [
      "First number10\n",
      "Second number0\n",
      "exception occured\n",
      "None\n"
     ]
    }
   ],
   "source": [
    "a = int(input(\"First number\"))\n",
    "b = int(input(\"Second number\"))\n",
    "c = None\n",
    "try:\n",
    "    c= a/b\n",
    "except Exception as e:\n",
    "    print(\"exception occured\")\n",
    "print(c)"
   ]
  },
  {
   "cell_type": "code",
   "execution_count": 8,
   "metadata": {},
   "outputs": [
    {
     "name": "stdout",
     "output_type": "stream",
     "text": [
      "First number10\n",
      "Second number0\n",
      " ZeroDivisionError\n",
      "None\n"
     ]
    }
   ],
   "source": [
    "a = int(input(\"First number\"))\n",
    "b = int(input(\"Second number\"))\n",
    "c = None\n",
    "try:\n",
    "    c= a/b\n",
    "except Exception as e:\n",
    "    print(\"\",type(e).__name__)\n",
    "print(c)"
   ]
  },
  {
   "cell_type": "markdown",
   "metadata": {},
   "source": [
    "Class and self practice\n",
    "\n",
    "Create a sample class named Employee with two attributes id and name\n",
    "employee :\n",
    "    id\n",
    "    name\n",
    "object initializes id and name dynamically for every Employee object created.\n",
    "\n",
    "emp = Employee(1, \"coder\")\n",
    "Use del property to first delete id attribute and then the entire object"
   ]
  },
  {
   "cell_type": "code",
   "execution_count": 18,
   "metadata": {},
   "outputs": [
    {
     "name": "stdout",
     "output_type": "stream",
     "text": [
      "1\n",
      "Jay\n",
      "The attribute you are looking for does not exist\n"
     ]
    },
    {
     "ename": "NameError",
     "evalue": "name 'e1' is not defined",
     "output_type": "error",
     "traceback": [
      "\u001b[1;31m---------------------------------------------------------------------------\u001b[0m",
      "\u001b[1;31mNameError\u001b[0m                                 Traceback (most recent call last)",
      "\u001b[1;32m<ipython-input-18-348fedead28f>\u001b[0m in \u001b[0;36m<module>\u001b[1;34m\u001b[0m\n\u001b[0;32m     15\u001b[0m \u001b[1;33m\u001b[0m\u001b[0m\n\u001b[0;32m     16\u001b[0m \u001b[1;32mdel\u001b[0m \u001b[0me1\u001b[0m\u001b[1;33m\u001b[0m\u001b[1;33m\u001b[0m\u001b[0m\n\u001b[1;32m---> 17\u001b[1;33m \u001b[0mprint\u001b[0m\u001b[1;33m(\u001b[0m\u001b[0me1\u001b[0m\u001b[1;33m)\u001b[0m\u001b[1;33m\u001b[0m\u001b[1;33m\u001b[0m\u001b[0m\n\u001b[0m",
      "\u001b[1;31mNameError\u001b[0m: name 'e1' is not defined"
     ]
    }
   ],
   "source": [
    "class Employee:\n",
    "    def __init__(self,id_no,n):\n",
    "        self.id = id_no\n",
    "        self.name = n\n",
    "\n",
    "e1 = Employee(1,\"Jay\")\n",
    "print(e1.id)\n",
    "print(e1.name)\n",
    "\n",
    "del e1.id\n",
    "try:\n",
    "    print(e1.id)\n",
    "except AttributeError:\n",
    "    print(\"The attribute you are looking for does not exist\")\n",
    "\n",
    "del e1\n",
    "print(e1)"
   ]
  },
  {
   "cell_type": "markdown",
   "metadata": {},
   "source": [
    "Inheritance\n",
    "Real Life Example :\n",
    "\n",
    "1.Create multiple inheritance on teacher,student and youtuber.\n",
    "Q. if we have created teacher and now one student joins master degree with becoming teacher then what??\n",
    "\n",
    "Ans :  just make subclass from  teacher so that student will become teacher\n",
    "2.Now student is teacher as well as youtuber then what???\n",
    "-just use multiple inheritance for these three relations\n"
   ]
  },
  {
   "cell_type": "code",
   "execution_count": 23,
   "metadata": {},
   "outputs": [
    {
     "name": "stdout",
     "output_type": "stream",
     "text": [
      "I am teacher\n"
     ]
    }
   ],
   "source": [
    "class Teacher:\n",
    "    def __init__(self):\n",
    "        print(\"I am teacher\")\n",
    "class Student:\n",
    "    def __init__(self):\n",
    "        print(\"I am Student\")\n",
    "class Youtuber:\n",
    "    def __init__(self):\n",
    "        print(\"I am Youtubeer\")\n",
    "class Person(Teacher,Student,Youtuber):\n",
    "    def __init(self):\n",
    "        print(\"I am a person\")\n",
    "p = Person()"
   ]
  },
  {
   "cell_type": "markdown",
   "metadata": {},
   "source": [
    "1.Create an iterator for fibonacci series in such a way that each next returns the next element from fibonacci series.\n",
    "2.The iterator should stop when it reaches a limit defined in the constructor."
   ]
  },
  {
   "cell_type": "code",
   "execution_count": 30,
   "metadata": {},
   "outputs": [
    {
     "name": "stdout",
     "output_type": "stream",
     "text": [
      "1\n",
      "2\n",
      "3\n",
      "5\n",
      "8\n",
      "13\n",
      "21\n",
      "34\n",
      "55\n",
      "Limit reached\n",
      "Finish\n"
     ]
    }
   ],
   "source": [
    "class fibonacci:\n",
    "    def __init__(self,limit):\n",
    "        self.previous = 0\n",
    "        self.current = 1\n",
    "        self.n = 1\n",
    "        self.limit = limit\n",
    "        \n",
    "    def __iter__(self):\n",
    "        return self\n",
    "    \n",
    "    def __next__(self):\n",
    "        if self.n < self.limit:\n",
    "            next_no = self.previous + self.current\n",
    "            self.previous = self.current\n",
    "            self.current = next_no\n",
    "            self.n = self.n + 1\n",
    "            return next_no\n",
    "        else:\n",
    "            print(\"Limit reached\")\n",
    "            raise Exception\n",
    "series = iter(fibonacci(10))\n",
    "while True:\n",
    "    try:\n",
    "        print(next(series))\n",
    "    except Exception as e:\n",
    "        print(\"Finish\")\n",
    "        break"
   ]
  },
  {
   "cell_type": "markdown",
   "metadata": {},
   "source": [
    "Creating fibonacci using generator"
   ]
  },
  {
   "cell_type": "code",
   "execution_count": 3,
   "metadata": {},
   "outputs": [
    {
     "name": "stdout",
     "output_type": "stream",
     "text": [
      "0\n",
      "1\n",
      "1\n",
      "2\n",
      "3\n",
      "5\n",
      "8\n",
      "13\n",
      "21\n",
      "34\n"
     ]
    }
   ],
   "source": [
    "def fibo():\n",
    "    a,b = 0,1\n",
    "    while True:\n",
    "        yield a\n",
    "        # a =b\n",
    "        # b a+b\n",
    "        a,b = b, a+b\n",
    "        \n",
    "for f in fibo():\n",
    "    if f>50:\n",
    "        break\n",
    "    print(f)"
   ]
  },
  {
   "cell_type": "markdown",
   "metadata": {},
   "source": [
    "Exercise: Decorators\n",
    "1.Create a decorator function to check that the argument passed to the function factorial is a non-negative integer:\n",
    "2.Create a factorial function which finds the factorial of a number.\n",
    "3.Use the decorator to decorate the factorial function to only allow factorial of non-negative integers."
   ]
  },
  {
   "cell_type": "code",
   "execution_count": 14,
   "metadata": {},
   "outputs": [
    {
     "name": "stdout",
     "output_type": "stream",
     "text": [
      "Enter any integer number for its factorial-2\n",
      "negative integer cannot find factorial\n"
     ]
    },
    {
     "ename": "SystemExit",
     "evalue": "",
     "output_type": "error",
     "traceback": [
      "An exception has occurred, use %tb to see the full traceback.\n",
      "\u001b[1;31mSystemExit\u001b[0m\n"
     ]
    },
    {
     "name": "stderr",
     "output_type": "stream",
     "text": [
      "C:\\Users\\Jay\\anaconda3\\lib\\site-packages\\IPython\\core\\interactiveshell.py:3445: UserWarning: To exit: use 'exit', 'quit', or Ctrl-D.\n",
      "  warn(\"To exit: use 'exit', 'quit', or Ctrl-D.\", stacklevel=1)\n"
     ]
    }
   ],
   "source": [
    "import sys\n",
    "def check_nonNeg(fun):\n",
    "    def wrapper(a):\n",
    "        if a<0:\n",
    "            print(\"negative integer cannot find factorial\")\n",
    "            sys.exit()\n",
    "        else:\n",
    "            r = fun(a)\n",
    "        return r\n",
    "    return wrapper\n",
    "        \n",
    "\n",
    "@check_nonNeg\n",
    "def factorial(number):\n",
    "    result = 1\n",
    "    while number>0:\n",
    "        result = result * number\n",
    "        number = number -1\n",
    "    return result\n",
    "\n",
    "n = int(input(\"Enter any integer number for its factorial\"))\n",
    "factorial(n)"
   ]
  },
  {
   "cell_type": "markdown",
   "metadata": {},
   "source": [
    "Multithreading calculating cude and squares"
   ]
  },
  {
   "cell_type": "code",
   "execution_count": 5,
   "metadata": {},
   "outputs": [
    {
     "name": "stdout",
     "output_type": "stream",
     "text": [
      "square 4\n",
      "square 9\n",
      "square 16\n",
      "square 25\n",
      "cude 8\n",
      "cude 27\n",
      "cude 64\n",
      "cude 125\n",
      "time taken is -1.6374397277832031\n",
      "square 4\n",
      "cude 8\n",
      "cudesquare 27\n",
      " 9\n",
      "squarecude 64\n",
      " 16\n",
      "squarecude 125\n",
      " 25\n",
      "multitread time taken is -0.8262045383453369\n"
     ]
    }
   ],
   "source": [
    "import time\n",
    "import threading\n",
    "\n",
    "def square(nums):\n",
    "    for i in nums:\n",
    "        time.sleep(0.2)\n",
    "        print(\"square\", i*i)\n",
    "        \n",
    "def cude(nums):\n",
    "    for i in nums:\n",
    "        time.sleep(0.2)\n",
    "        print(\"cude\",i*i*i)\n",
    "\n",
    "arr = [2,3,4,5]\n",
    "# calling it normally\n",
    "start_t = time.time()\n",
    "square(arr)\n",
    "cude(arr)\n",
    "end_t = time.time()\n",
    "print(\"time taken is\" ,start_t-end_t)\n",
    "\n",
    "# now multithreading\n",
    "\n",
    "st = time.time()\n",
    "\n",
    "t1 = threading.Thread(target=square,args=(arr,))\n",
    "t2 = threading.Thread(target=cude,args=(arr,))\n",
    "\n",
    "t1.start()\n",
    "t2.start()\n",
    "\n",
    "t1.join()\n",
    "t2.join()\n",
    "\n",
    "et= time.time()\n",
    "\n",
    "print(\"multitread time taken is\",st-et)\n"
   ]
  },
  {
   "cell_type": "markdown",
   "metadata": {},
   "source": [
    "1.Create any multithreaded code using for loop for creating multithreads\n",
    "for i in range(10):\n",
    "    th = Thread(target=func_name, args=(i, ))\n",
    "    \n",
    "2.print total active threads in multithreaded code using threading.active_count()"
   ]
  },
  {
   "cell_type": "code",
   "execution_count": 19,
   "metadata": {},
   "outputs": [
    {
     "name": "stdout",
     "output_type": "stream",
     "text": [
      "https://en.wikipedia.org/wiki/A\n",
      "https://en.wikipedia.org/wiki/A_(disambiguation)\n",
      "https://en.wikipedia.org/wiki/Italic_type\n",
      "https://en.wikipedia.org/wiki/Latin_alpha\n",
      "https://en.wikipedia.org/wiki/Turned_v\n",
      "https://en.wikipedia.org/wiki/%C3%80\n",
      "https://en.wiktionary.org/wiki/a\n",
      "https://www.dictionary.com/browse/a\n",
      "https://www.merriam-webster.com/dictionary/a\n",
      "https://www.collinsdictionary.com/dictionary/english/a\n",
      "https://en.wikipedia.org/wiki/B\n",
      "https://people.com/music/cardi-b-speaks-out-after-being-awarded-additional-3-million-in-slander-lawsuit-against-youtuber/\n",
      "https://www.theguardian.com/music/2022/jan/25/cardi-b-awarded-1m-in-damages-libel-tasha-k\n",
      "https://www.hollywoodreporter.com/business/digital/apple-q1-2022-earnings-1235082244/\n",
      "https://www.youtube.com/watch?v=rCiBgLOcuKU\n",
      "https://www.youtube.com/watch?v=CgugkEB-q_Q\n",
      "https://twitter.com/iamcardib?ref_src=twsrc%5Egoogle%7Ctwcamp%5Eserp%7Ctwgr%5Eauthor\n",
      "https://twitter.com/iamcardib/status/1486517015728820229?ref_src=twsrc%5Egoogle%7Ctwcamp%5Eserp%7Ctwgr%5Etweet\n",
      "https://twitter.com/iamcardib/status/1486351871937761281?ref_src=twsrc%5Egoogle%7Ctwcamp%5Eserp%7Ctwgr%5Etweet\n",
      "https://twitter.com/iamcardib/status/1485834062241665028?ref_src=twsrc%5Egoogle%7Ctwcamp%5Eserp%7Ctwgr%5Etweet\n",
      "https://en.wikipedia.org/wiki/C_(programming_language)\n",
      "https://en.wikipedia.org/wiki/C--\n",
      "https://en.wikipedia.org/wiki/Dennis_Ritchie\n",
      "https://en.wikipedia.org/wiki/C17_(C_standard_revision)\n",
      "https://en.wikipedia.org/wiki/ANSI_C\n",
      "https://www.youtube.com/watch?v=KJgsSFOSQv0\n",
      "https://www.tutorialspoint.com/cprogramming/index.htm\n",
      "https://www.programiz.com/c-programming\n",
      "https://www.amazon.ca/Programming-Language-2nd-Brian-Kernighan/dp/0131103628\n",
      "https://en.cppreference.com/w/c/language\n",
      "Time take for normal execution -  -9.358300924301147\n",
      "https://en.wikipedia.org/wiki/A\n",
      "https://en.wikipedia.org/wiki/A_(disambiguation)\n",
      "https://en.wikipedia.org/wiki/Italic_type\n",
      "https://en.wikipedia.org/wiki/Latin_alpha\n",
      "https://en.wikipedia.org/wiki/Turned_v\n",
      "https://en.wikipedia.org/wiki/%C3%80\n",
      "https://en.wiktionary.org/wiki/a\n",
      "https://www.dictionary.com/browse/a\n",
      "https://www.merriam-webster.com/dictionary/a\n",
      "https://www.collinsdictionary.com/dictionary/english/a\n",
      "https://en.wikipedia.org/wiki/C_(programming_language)\n",
      "https://en.wikipedia.org/wiki/C--\n",
      "https://en.wikipedia.org/wiki/Dennis_Ritchie\n",
      "https://en.wikipedia.org/wiki/C17_(C_standard_revision)\n",
      "https://en.wikipedia.org/wiki/ANSI_C\n",
      "https://www.youtube.com/watch?v=KJgsSFOSQv0\n",
      "https://www.tutorialspoint.com/cprogramming/index.htm\n",
      "https://www.programiz.com/c-programming\n",
      "https://www.amazon.ca/Programming-Language-2nd-Brian-Kernighan/dp/0131103628\n",
      "https://en.cppreference.com/w/c/language\n",
      "https://en.wikipedia.org/wiki/B\n",
      "https://people.com/music/cardi-b-speaks-out-after-being-awarded-additional-3-million-in-slander-lawsuit-against-youtuber/\n",
      "https://www.theguardian.com/music/2022/jan/25/cardi-b-awarded-1m-in-damages-libel-tasha-k\n",
      "https://www.hollywoodreporter.com/business/digital/apple-q1-2022-earnings-1235082244/\n",
      "https://www.youtube.com/watch?v=rCiBgLOcuKU\n",
      "https://www.youtube.com/watch?v=CgugkEB-q_Q\n",
      "https://twitter.com/iamcardib?ref_src=twsrc%5Egoogle%7Ctwcamp%5Eserp%7Ctwgr%5Eauthor\n",
      "https://twitter.com/iamcardib/status/1486517015728820229?ref_src=twsrc%5Egoogle%7Ctwcamp%5Eserp%7Ctwgr%5Etweet\n",
      "https://twitter.com/iamcardib/status/1486351871937761281?ref_src=twsrc%5Egoogle%7Ctwcamp%5Eserp%7Ctwgr%5Etweet\n",
      "https://twitter.com/iamcardib/status/1485834062241665028?ref_src=twsrc%5Egoogle%7Ctwcamp%5Eserp%7Ctwgr%5Etweet\n",
      "Time taken for multithread execution - -3.081224203109741\n"
     ]
    }
   ],
   "source": [
    "import google\n",
    "import time\n",
    "import threading\n",
    "from googlesearch import search\n",
    "\n",
    "def google_search(arr):\n",
    "    for j in search(arr, tld=\"co.in\", num=10, stop=10, pause=2):\n",
    "        print(j)\n",
    "    \n",
    "search_list=[\"youtube\",\"facebook\",\"yahoo\",\"twitter\",\"instagram\",\"telegram\"]\n",
    "a=\"a\"\n",
    "b=\"b\"\n",
    "c=\"c\"\n",
    "# for i in search_list:\n",
    "#     th= threading.Thread(target=google_search,args=(i,))\n",
    "\n",
    "start_time = time.time()\n",
    "google_search(a)\n",
    "google_search(b)\n",
    "google_search(c)\n",
    "end_time = time.time()\n",
    "print(\"Time take for normal execution - \",start_time-end_time)\n",
    "st = time.time()\n",
    "\n",
    "t1 = threading.Thread(target=google_search,args=(a,))\n",
    "t2 = threading.Thread(target=google_search,args=(b,))\n",
    "t3 = threading.Thread(target=google_search,args=(c,))\n",
    "\n",
    "t1.start()\n",
    "t2.start()\n",
    "t3.start()\n",
    "t1.join()\n",
    "t2.join()\n",
    "t3.join()\n",
    "\n",
    "et= time.time()\n",
    "print(\"Time taken for multithread execution -\",st-et)\n"
   ]
  },
  {
   "cell_type": "code",
   "execution_count": 4,
   "metadata": {},
   "outputs": [
    {
     "name": "stdout",
     "output_type": "stream",
     "text": [
      "https://www.geeksforgeeks.org/\n",
      "https://twitter.com/geeksforgeeks?ref_src=twsrc%5Egoogle%7Ctwcamp%5Eserp%7Ctwgr%5Eauthor\n",
      "https://twitter.com/geeksforgeeks/status/1486773719389257733?ref_src=twsrc%5Egoogle%7Ctwcamp%5Eserp%7Ctwgr%5Etweet\n",
      "https://twitter.com/geeksforgeeks/status/1486668823310700544?ref_src=twsrc%5Egoogle%7Ctwcamp%5Eserp%7Ctwgr%5Etweet\n",
      "https://twitter.com/geeksforgeeks/status/1486549226611871744?ref_src=twsrc%5Egoogle%7Ctwcamp%5Eserp%7Ctwgr%5Etweet\n",
      "https://twitter.com/geeksforgeeks/status/1486323208836218892?ref_src=twsrc%5Egoogle%7Ctwcamp%5Eserp%7Ctwgr%5Etweet\n",
      "https://ca.linkedin.com/company/geeksforgeeks\n",
      "https://www.youtube.com/c/GeeksforGeeksVideos/videos\n",
      "https://www.instagram.com/geeks_for_geeks/?hl=en\n",
      "https://www.facebook.com/geeksforgeeks.org/\n"
     ]
    }
   ],
   "source": []
  }
 ],
 "metadata": {
  "colab": {
   "name": "python_brushup.ipynb",
   "provenance": []
  },
  "kernelspec": {
   "display_name": "Python 3",
   "language": "python",
   "name": "python3"
  },
  "language_info": {
   "codemirror_mode": {
    "name": "ipython",
    "version": 3
   },
   "file_extension": ".py",
   "mimetype": "text/x-python",
   "name": "python",
   "nbconvert_exporter": "python",
   "pygments_lexer": "ipython3",
   "version": "3.8.8"
  }
 },
 "nbformat": 4,
 "nbformat_minor": 1
}
